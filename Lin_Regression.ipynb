{
  "nbformat": 4,
  "nbformat_minor": 0,
  "metadata": {
    "colab": {
      "name": "Lin_Regression.ipynb",
      "provenance": [],
      "collapsed_sections": [],
      "authorship_tag": "ABX9TyOgSd2TzmDq1yb1TuH/JyEs"
    },
    "kernelspec": {
      "name": "python3",
      "display_name": "Python 3"
    }
  },
  "cells": [
    {
      "cell_type": "code",
      "metadata": {
        "id": "8Rl_KgMxFNU1"
      },
      "source": [
        "import pandas as pd #import all the import libraries \n",
        "import numpy as np\n",
        "import sklearn \n",
        "import matplotlib.pyplot as plt \n",
        "from sklearn import linear_model\n",
        "from google.colab import files\n",
        "uploaded = files.upload() #enable data upload from your local PC\n",
        "#Note you can also mount your google drive into colab and you can reference your .csv from there "
      ],
      "execution_count": null,
      "outputs": []
    },
    {
      "cell_type": "code",
      "metadata": {
        "id": "XwNQBJfM_b7F"
      },
      "source": [
        "import io  \n",
        "src = \"data - Sheet1.csv\" #the path/name of your file \n",
        "df = pd.read_csv(io.StringIO(uploaded[src].decode('utf-8'))) #read and format the data appropriately \n",
        "df #print the dataframe\n"
      ],
      "execution_count": null,
      "outputs": []
    },
    {
      "cell_type": "code",
      "metadata": {
        "id": "PIUNKlSoMj5w"
      },
      "source": [
        "%matplotlib inline #allow for the graphic to be displayed in colab/anaconda\n",
        "x = \"area (sqr ft)\"\n",
        "y = \"price (CAD)\"\n",
        "plt.xlabel(x) #label the x axis\n",
        "plt.ylabel(y) #label the y axis\n",
        "plt.scatter(df.area, df.price, color = 'red') #plot the data from the dataframe  "
      ],
      "execution_count": null,
      "outputs": []
    },
    {
      "cell_type": "code",
      "metadata": {
        "id": "yw-YH25A23MF",
        "outputId": "d556b28e-2bd7-43a1-d45c-c9b8ef681bd3",
        "colab": {
          "base_uri": "https://localhost:8080/",
          "height": 36
        }
      },
      "source": [
        "out = 2800 #this is the desired y-value we want to predict (change this to refect the value you want to predict)\n",
        "reg = linear_model.LinearRegression()\n",
        "reg.fit(df[['area']], df[['price']]) #arguments are x and y variable respectively\n",
        "reg.predict(np.array(out).reshape(-1, 1)) #predict the price of a house that has 2800sqr ft available based on the line of best fit generated from the model"
      ],
      "execution_count": 14,
      "outputs": [
        {
          "output_type": "execute_result",
          "data": {
            "text/plain": [
              "array([[587859.64912281]])"
            ]
          },
          "metadata": {
            "tags": []
          },
          "execution_count": 14
        }
      ]
    }
  ]
}